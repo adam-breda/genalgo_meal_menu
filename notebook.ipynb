{
 "cells": [
  {
   "cell_type": "code",
   "execution_count": 1,
   "metadata": {},
   "outputs": [],
   "source": [
    "import numpy as np\n",
    "import numpy.core.defchararray as npc\n",
    "from random import randint\n",
    "import matplotlib.pyplot as plt\n",
    "# !pip install pandas\n",
    "import pandas as pd\n",
    "\n"
   ]
  },
  {
   "cell_type": "code",
   "execution_count": 46,
   "metadata": {},
   "outputs": [
    {
     "data": {
      "text/plain": [
       "array([['000000', 'Jagung Rebus (250g)', 90],\n",
       "       ['000001', 'Kentang Rebus (200g)', 166],\n",
       "       ['000010', 'Ketan Putih\\t(120g)', 217],\n",
       "       ['000011', 'Ketupat\\t(160g)', 32],\n",
       "       ['000100', 'Lontong\\t(200g)', 38],\n",
       "       ['000101', 'Nasi Putih\\t(100g)', 175],\n",
       "       ['000110', 'Nasi Putih Kentucky\\t(225g)', 349],\n",
       "       ['000111', 'Roti Tawar Serat Tinggi\\t(60g)', 149],\n",
       "       ['001000', 'Singkong Rebus\\t(100g)', 146],\n",
       "       ['001001', 'Talas Rebus\\t(100g)', 98],\n",
       "       ['001010', 'Ubi Rebus\\t(100g)', 125],\n",
       "       ['001011', 'Bubur\\t(200g)', 44],\n",
       "       ['001100', 'Crakers\\t(50g)', 229],\n",
       "       ['001101', 'Makaroni(25g)', 91],\n",
       "       ['001110', 'Mie Instant (50g)', 168],\n",
       "       ['001111', 'Nasi Tim\\t(100g)', 88],\n",
       "       ['010000', 'Nasi Uduk\\t(200g)', 506],\n",
       "       ['010001', 'Roti Tawar(50g)', 128],\n",
       "       ['010010', 'Bihun Goreng\\t(150g)', 296],\n",
       "       ['010011', 'Bubur Ayam\\t(200g)', 165],\n",
       "       ['010100', 'Bubur Sum-Sum\\t(100g)', 178],\n",
       "       ['010101', 'Kentang Goreng\\t(150g)', 211],\n",
       "       ['010110', 'Mie Goreng\\t(200g)', 321],\n",
       "       ['010111', 'Nasi Goreng\\t(100g)', 267],\n",
       "       ['011000', 'Soun Goreng\\t(100g)', 263],\n",
       "       ['011001', 'Spaghetti (300g)', 642],\n",
       "       ['011010', 'Tape singkong (150g)', 260]], dtype=object)"
      ]
     },
     "execution_count": 46,
     "metadata": {},
     "output_type": "execute_result"
    }
   ],
   "source": [
    "data_fruit = pd.read_csv(\"fruits.csv\",dtype={\"gen\":str}).to_numpy()\n",
    "data_carbo = pd.read_csv(\"carbohydrate.csv\",dtype={\"gen\":str}).to_numpy()\n",
    "data_meat = pd.read_csv(\"meat.csv\",dtype={\"gen\":str}).to_numpy()\n",
    "\n",
    "if(len(data_carbo)<len(data_meat) and len(data_carbo)<len(data_fruit)):\n",
    "    max_data_length = len(data_carbo)\n",
    "elif(len(data_meat)<len(data_fruit)):\n",
    "    max_data_length = len(data_meat)\n",
    "else:\n",
    "    max_data_length = len(data_fruit)\n",
    "\n",
    "data_makanan = np.array([data_fruit[:max_data_length],data_carbo[:max_data_length],data_meat[:max_data_length]])\n",
    "data_makanan\n",
    "# data_makanan = np.array([\n",
    "#     [[\"00\", \"Apel\", 52], [\"01\", \"Pisang\", 89], [\n",
    "#         \"10\", \"Mangga\", 60], [\"11\", \"Semangka\", 30]],\n",
    "\n",
    "#     [[\"00\", \"Roti\", 265], [\"01\", \"Kentang\", 87], [\n",
    "#         \"10\", \"Jagung\", 86], [\"11\", \"Ketela\", 159]],\n",
    "        \n",
    "#     [[\"00\", \"Ikan\", 206], [\"01\", \"Daging Sapi\", 143],\n",
    "#         [\"10\", \"Ayam\", 239], [\"11\", \"Telur\", 155]]\n",
    "# ])\n",
    "# data_makanan.shape\n",
    "# df = pd.DataFrame(data_makanan[0])\n",
    "# df"
   ]
  },
  {
   "cell_type": "code",
   "execution_count": 19,
   "metadata": {},
   "outputs": [
    {
     "data": {
      "text/plain": [
       "array(['000010', '000010', '000011'], dtype='<U32')"
      ]
     },
     "execution_count": 19,
     "metadata": {},
     "output_type": "execute_result"
    }
   ],
   "source": [
    "\n",
    "\"\"\"\n",
    "Membuat satu kombinasi makanan, satu kombinasi terdiri dari satu buah, satu karbohidrat dan\n",
    "satu lauk. kombinasi bersifat random.\n",
    "kombinasi satu kali makan mewakili satu kromosom\n",
    "\"\"\"\n",
    "\n",
    "\n",
    "def menu_sekali_makan():\n",
    "    kromosom = np.array([])\n",
    "    for menu in data_makanan:\n",
    "        random_index = randint(0, 3)\n",
    "        kromosom = np.append(kromosom, menu[random_index, 0])\n",
    "    return kromosom\n",
    "\n",
    "menu_sekali_makan()"
   ]
  },
  {
   "cell_type": "code",
   "execution_count": 20,
   "metadata": {},
   "outputs": [
    {
     "data": {
      "text/plain": [
       "array([['000011', '000000', '000000'],\n",
       "       ['000010', '000011', '000011'],\n",
       "       ['000000', '000010', '000001'],\n",
       "       ['000001', '000001', '000000'],\n",
       "       ['000010', '000000', '000000'],\n",
       "       ['000000', '000001', '000011'],\n",
       "       ['000001', '000000', '000011']], dtype='<U32')"
      ]
     },
     "execution_count": 20,
     "metadata": {},
     "output_type": "execute_result"
    }
   ],
   "source": [
    "\"\"\"\n",
    "Satu individu diwujudkan dalam menu seminggu. menu seminggu inilah yang akan dihitung fitness \n",
    "nya terhadap kriteria fitness.\n",
    "\"\"\"\n",
    "\n",
    "def menu_seminggu():\n",
    "    individu = np.array([])\n",
    "    for hari in range(7):\n",
    "        individu = np.append(individu, menu_sekali_makan())\n",
    "    individu = individu.reshape(7, 3)\n",
    "    return individu\n",
    "\n",
    "menu_seminggu()"
   ]
  },
  {
   "cell_type": "code",
   "execution_count": 24,
   "metadata": {},
   "outputs": [
    {
     "data": {
      "text/plain": [
       "array([[['000000', '000011', '000010'],\n",
       "        ['000011', '000010', '000000'],\n",
       "        ['000000', '000010', '000011'],\n",
       "        ['000001', '000011', '000011'],\n",
       "        ['000011', '000011', '000000'],\n",
       "        ['000001', '000001', '000011'],\n",
       "        ['000001', '000001', '000001']],\n",
       "\n",
       "       [['000010', '000010', '000001'],\n",
       "        ['000011', '000010', '000001'],\n",
       "        ['000000', '000001', '000001'],\n",
       "        ['000010', '000010', '000001'],\n",
       "        ['000000', '000000', '000000'],\n",
       "        ['000001', '000000', '000010'],\n",
       "        ['000011', '000001', '000010']],\n",
       "\n",
       "       [['000001', '000010', '000011'],\n",
       "        ['000001', '000010', '000001'],\n",
       "        ['000011', '000011', '000011'],\n",
       "        ['000010', '000000', '000000'],\n",
       "        ['000011', '000010', '000001'],\n",
       "        ['000011', '000000', '000010'],\n",
       "        ['000000', '000001', '000011']]], dtype='<U32')"
      ]
     },
     "execution_count": 24,
     "metadata": {},
     "output_type": "execute_result"
    }
   ],
   "source": [
    "\"\"\"\n",
    "Membangkitkan generasi pertama\n",
    "\"\"\"\n",
    "\n",
    "def buat_leluhur(jumlah_populasi):\n",
    "    leluhur = np.array([])\n",
    "    for i in range(jumlah_populasi):\n",
    "        leluhur = np.append(leluhur, menu_seminggu())\n",
    "    leluhur = leluhur.reshape(jumlah_populasi, 7, 3)\n",
    "    # print(leluhur)\n",
    "    return leluhur\n",
    "\n",
    "generasi1 = buat_leluhur(3)\n",
    "generasi1"
   ]
  },
  {
   "cell_type": "code",
   "execution_count": 44,
   "metadata": {},
   "outputs": [
    {
     "name": "stdout",
     "output_type": "stream",
     "text": [
      "[['000010' '000000' '000000']\n",
      " ['000011' '000001' '000000']\n",
      " ['000001' '000011' '000010']\n",
      " ['000010' '000010' '000001']\n",
      " ['000000' '000001' '000010']\n",
      " ['000011' '000010' '000010']\n",
      " ['000011' '000010' '000001']]\n"
     ]
    },
    {
     "data": {
      "text/plain": [
       "False"
      ]
     },
     "execution_count": 44,
     "metadata": {},
     "output_type": "execute_result"
    }
   ],
   "source": [
    "\"\"\"\n",
    "Cek fitness untuk setiap generasi yang dilahirkan.\n",
    "cek fitness I adalah menghitung total kalori untuk setiap kali makan. jika > 500 kalori maka\n",
    "individu tersebut dinyatakan kurang fit. jika kurang dari 500 maka diberikan skor fitnes 10\n",
    "\"\"\"\n",
    "\n",
    "\n",
    "def dibawah_kalori_maksimal(menu_sekali_makan, maks_kalori):\n",
    "    # cari kalori buah\n",
    "    buah, cols = np.where(data_makanan[0] == menu_sekali_makan[0])\n",
    "#     print(buah)\n",
    "    kalori_buah = int(data_makanan[0][buah, 2][0])\n",
    "\n",
    "    # cari kalori karbo\n",
    "    karbo, cols = np.where(data_makanan[1] == menu_sekali_makan[1])\n",
    "    kalori_karbo = int(data_makanan[1][karbo, 2][0])\n",
    "\n",
    "    # cari kalori lauk\n",
    "    lauk, cols = np.where(data_makanan[2] == menu_sekali_makan[2])\n",
    "    kalori_lauk = int(data_makanan[2][lauk, 2][0])\n",
    "\n",
    "    # jumlahkan total kalori\n",
    "    total_kalori = kalori_buah + kalori_karbo + kalori_lauk\n",
    "    # print(total_kalori)\n",
    "    # cek apakah kalori melebihi batas maksimal\n",
    "    if total_kalori < maks_kalori:\n",
    "        return True\n",
    "    else:\n",
    "        return False\n",
    "\n",
    "contoh = menu_seminggu()\n",
    "print(contoh)\n",
    "dibawah_kalori_maksimal(contoh, 400)"
   ]
  },
  {
   "cell_type": "code",
   "execution_count": 27,
   "metadata": {},
   "outputs": [
    {
     "data": {
      "text/plain": [
       "15"
      ]
     },
     "execution_count": 27,
     "metadata": {},
     "output_type": "execute_result"
    }
   ],
   "source": [
    "\"\"\"\n",
    "Cek menu sebelumnya, skor diberikan jika menu tidak sama, minimal skor 0 maksimal 15.\n",
    "\"\"\"\n",
    "\n",
    "def cek_menu_sebelumnya(menu_sebelum, menu_sekarang):\n",
    "    skor = 0\n",
    "    if menu_sebelum[0] != menu_sekarang[0]:\n",
    "        skor += 5\n",
    "    if menu_sebelum[1] != menu_sekarang[1]:\n",
    "        skor += 5\n",
    "    if menu_sebelum[2] != menu_sekarang[2]:\n",
    "        skor += 5\n",
    "    return skor\n",
    "\n",
    "cek_menu_sebelumnya(contoh[2], contoh[3])"
   ]
  },
  {
   "cell_type": "code",
   "execution_count": 45,
   "metadata": {},
   "outputs": [],
   "source": [
    "\"\"\"\n",
    "cek fitness setiap individu dalam satu generasi\n",
    "\"\"\"\n",
    "def cek_fitness(generasi, maks_kalori):\n",
    "    fit_status_individu = np.array([], dtype='int16')\n",
    "    nomor_individu = 0\n",
    "    best_score = 0\n",
    "    worst_score = 1000\n",
    "    best_individu = np.array([])\n",
    "    worst_individu = np.array([])\n",
    "    for individu in generasi:\n",
    "        fit_status_individu = np.append(fit_status_individu, nomor_individu)\n",
    "        nomor_individu += 1\n",
    "        skor = 0\n",
    "        kalorifit = 60\n",
    "        menu_sebelum = None\n",
    "        for kromosom in individu:\n",
    "            if dibawah_kalori_maksimal(kromosom, maks_kalori) == False:\n",
    "                kalorifit = 0\n",
    "            if menu_sebelum is not None:\n",
    "                skor = skor + cek_menu_sebelumnya(menu_sebelum, kromosom)\n",
    "            menu_sebelum = kromosom\n",
    "        fit_status_individu = np.append(fit_status_individu, kalorifit)\n",
    "        fit_status_individu = np.append(fit_status_individu, skor)\n",
    "        fit_status_individu = np.append(fit_status_individu, kalorifit + skor)\n",
    "        if (kalorifit + skor) > best_score:\n",
    "            best_score = kalorifit + skor\n",
    "            best_individu = individu\n",
    "        if worst_score > (kalorifit + skor):\n",
    "            worst_score = kalorifit + skor\n",
    "            worst_individu = individu\n",
    "    fit_status_individu = fit_status_individu.reshape(nomor_individu, 4)\n",
    "    # print(fit_status_individu)\n",
    "    fit_stat = fit_status_individu[:, [3]]\n",
    "    # cari yang terbaik berdasarkan skor terbaik\n",
    "    # get best score\n",
    "    # best = np.amax(fit_stat)\n",
    "    # worst= np.amin(fit_stat)\n",
    "    # print(fit_stat)\n",
    "    # print(\"nilai individu terbaik = \" + str(np.amax(fit_stat)) + \" Nilai individu terburuk = \"+ str(np.amin(fit_stat)))\n",
    "    return fit_status_individu, best_score, worst_score, best_individu, worst_individu\n",
    "\n",
    "_ = cek_fitness(generasi1, 400)"
   ]
  },
  {
   "cell_type": "code",
   "execution_count": null,
   "metadata": {},
   "outputs": [],
   "source": []
  },
  {
   "cell_type": "code",
   "execution_count": 29,
   "metadata": {},
   "outputs": [],
   "source": [
    "\"\"\"\n",
    "membuat persentase kemungkinan berpasangan dengan roulete.\n",
    "\"\"\"\n",
    "\n",
    "def make_roulete(fit_status_individu):\n",
    "    sum_fit_status_individu = fit_status_individu.sum(axis=0)\n",
    "    new_fit_status_individu = np.array([], dtype='int16')\n",
    "    angka = 0\n",
    "    for individu in fit_status_individu:\n",
    "        angka = angka + \\\n",
    "            int(round(individu[3]/sum_fit_status_individu[3]*100, 0))\n",
    "        individu = np.append(individu, angka)\n",
    "        new_fit_status_individu = np.append(new_fit_status_individu, individu)\n",
    "    new_fit_status_individu = new_fit_status_individu.reshape(\n",
    "        len(fit_status_individu), 5)\n",
    "    # print(new_fit_status_individu)\n",
    "    return new_fit_status_individu"
   ]
  },
  {
   "cell_type": "code",
   "execution_count": 30,
   "metadata": {},
   "outputs": [],
   "source": [
    "# cari yang beruntung untuk kawin dan carikan pasangannya\n",
    "\n",
    "def do_roulete(fit_status_individu, jumlah_populasi):\n",
    "    # untuk buat generasi dengan ukuran populasi sama dibutuhkan pasangan sejumlah 1/2 jumlah populasi\n",
    "    jumlah_pasangan = int(jumlah_populasi/2)\n",
    "    # untuk mencari jumlah persentase\n",
    "    max_fit = np.amax(fit_status_individu[:, [4]])\n",
    "    # print(max_fit)\n",
    "    pasangan = np.array([], dtype='int16')\n",
    "    # print(fit_status_individu)\n",
    "    # membuat pasangan sejumlah yang ditetapkan\n",
    "    individu_sebelumnya = None\n",
    "    for pop in range(jumlah_populasi):\n",
    "        random_index = randint(1, max_fit)  # nomer keberuntungan\n",
    "        # ambil satu individu yang beruntung\n",
    "        for individu in fit_status_individu:\n",
    "            if random_index <= individu[4]:\n",
    "                individu_sebelumnya = individu[0]\n",
    "                pasangan = np.append(pasangan, individu[0])\n",
    "                break\n",
    "    # print(fit_status_individu)\n",
    "    # print(pasangan)\n",
    "    # reshape sesuai panjang array dibagi 2\n",
    "    pasangan = pasangan.reshape(int(len(pasangan)/2), 2)\n",
    "    return pasangan"
   ]
  },
  {
   "cell_type": "code",
   "execution_count": 31,
   "metadata": {},
   "outputs": [],
   "source": [
    "def mutasi(individu):\n",
    "    for i in range(2):\n",
    "        random_index = randint(0, 6)\n",
    "        ori = individu[random_index]\n",
    "        mutan = npc.replace(ori, \"0\", \"2\")\n",
    "        mutan = npc.replace(mutan, \"1\", \"0\")\n",
    "        mutan = npc.replace(mutan, \"2\", \"1\")\n",
    "        individu[random_index] = mutan\n",
    "    return individu"
   ]
  },
  {
   "cell_type": "code",
   "execution_count": 32,
   "metadata": {},
   "outputs": [],
   "source": [
    "def kawin(generasi, pasangan, probabilitas_kawin, probabilitas_mutasi):\n",
    "    keturunan = np.array([])\n",
    "    # print(pasangan)\n",
    "    for couple in pasangan:\n",
    "        # print(generasi[couple[1]])\n",
    "        parent1 = generasi[couple[0]]\n",
    "        parent2 = generasi[couple[1]]\n",
    "        child1 = parent1\n",
    "        child2 = parent2\n",
    "        # print(\"=====\")\n",
    "        # print(child2)\n",
    "        random_chance = randint(0, 100)\n",
    "        # proses kawin\n",
    "        if random_chance > (100 - probabilitas_kawin):\n",
    "            for i in range(3):\n",
    "                random_index = randint(0, 6)\n",
    "                child1[random_index] = parent2[random_index]\n",
    "            for i in range(3):\n",
    "                random_index = randint(0, 6)\n",
    "                child2[random_index] = parent1[random_index]\n",
    "                # print(\"=====\")\n",
    "                # print(child2[random_index])\n",
    "\n",
    "        # proses probabilitas mutasi generasi baru\n",
    "        # print(child2)\n",
    "        # print(\"=====\")\n",
    "        random_mutate = randint(0, probabilitas_mutasi)\n",
    "        random_match = randint(0, probabilitas_mutasi)\n",
    "        if random_mutate == random_match:\n",
    "            child2 = mutasi(child2)\n",
    "            child1 = mutasi(child1)\n",
    "\n",
    "        keturunan = np.append(keturunan, child1)\n",
    "        keturunan = np.append(keturunan, child2)\n",
    "    # print(keturunan)\n",
    "    keturunan = keturunan.reshape(-1, 7, 3)\n",
    "    # print(generasi1)\n",
    "    return keturunan"
   ]
  },
  {
   "cell_type": "code",
   "execution_count": 33,
   "metadata": {},
   "outputs": [],
   "source": [
    "def printhasil(best, worst):\n",
    "    hari = 1\n",
    "    print(\"Susunan Menu terbaik : \")\n",
    "    for menu in best:\n",
    "        idxbuah, cols = np.where(data_makanan[0] == menu)\n",
    "        nama_buah = data_makanan[0][idxbuah, 1][0]\n",
    "        idxkarbo, cols = np.where(data_makanan[1] == menu)\n",
    "        nama_karbo = data_makanan[1][idxkarbo, 1][0]\n",
    "        idxlauk, cols = np.where(data_makanan[2] == menu)\n",
    "        nama_lauk = data_makanan[2][idxlauk, 1][0]\n",
    "        print(\"Hari ke-\"+str(hari)+\", Buah :\"+nama_buah +\n",
    "              \", makanan : \"+nama_karbo+\", Lauk: \"+nama_lauk)\n",
    "        hari += 1\n",
    "    print(\"========================================================================\")\n",
    "    print(\"\")\n",
    "    print(\"Susunan Menu Terburuk : \")\n",
    "    hari = 1\n",
    "    for menu in worst:\n",
    "        idxbuah, cols = np.where(data_makanan[0] == menu)\n",
    "        nama_buah = data_makanan[0][idxbuah, 1][0]\n",
    "        idxkarbo, cols = np.where(data_makanan[1] == menu)\n",
    "        nama_karbo = data_makanan[1][idxkarbo, 1][0]\n",
    "        idxlauk, cols = np.where(data_makanan[2] == menu)\n",
    "        nama_lauk = data_makanan[2][idxlauk, 1][0]\n",
    "        print(\"Hari ke-\"+str(hari)+\", Buah :\"+nama_buah +\n",
    "              \", makanan : \"+nama_karbo+\", Lauk: \"+nama_lauk)\n",
    "        hari += 1\n",
    "    return hari"
   ]
  },
  {
   "cell_type": "code",
   "execution_count": 34,
   "metadata": {},
   "outputs": [],
   "source": [
    "\n",
    "def eksekusi(jml_populasi, jml_iterasi, maks_kalori, probabilitas_kawin, probabilitas_mutasi):\n",
    "    # print(type(maks_kalori))\n",
    "    bw_individu = np.array([], dtype='int16')\n",
    "    it = int(0)\n",
    "    generasi1 = buat_leluhur(jml_populasi)\n",
    "    fit_status = cek_fitness(generasi1, maks_kalori)\n",
    "    best_score_of_all = fit_status[1]\n",
    "    worst_score_of_all = fit_status[2]\n",
    "    best_of_all = fit_status[3]\n",
    "    worst_of_all = fit_status[4]\n",
    "    bw_individu = np.append(bw_individu, it)\n",
    "    bw_individu = np.append(bw_individu, int(fit_status[1]))\n",
    "    bw_individu = np.append(bw_individu, int(fit_status[2]))\n",
    "    new_fit_status = (make_roulete(fit_status[0]))\n",
    "    pasangan = do_roulete(new_fit_status, jml_populasi)\n",
    "    keturunan = kawin(generasi1, pasangan,\n",
    "                      probabilitas_kawin, probabilitas_mutasi)\n",
    "    for it in range(jml_iterasi):\n",
    "        fit_status = cek_fitness(keturunan, maks_kalori)\n",
    "        if fit_status[1] > best_score_of_all:\n",
    "            best_score_of_all = fit_status[1]\n",
    "            best_of_all = fit_status[3]\n",
    "        if worst_score_of_all > fit_status[2]:\n",
    "            worst_score_of_all = fit_status[2]\n",
    "            worst_of_all = fit_status[4]\n",
    "        bw_individu = np.append(bw_individu, it+1)\n",
    "        bw_individu = np.append(bw_individu, int(fit_status[1]))\n",
    "        bw_individu = np.append(bw_individu, int(fit_status[2]))\n",
    "        new_fit_status = (make_roulete(fit_status[0]))\n",
    "        pasangan = do_roulete(new_fit_status, jml_populasi)\n",
    "        keturunan = kawin(keturunan, pasangan,\n",
    "                          probabilitas_kawin, probabilitas_mutasi)\n",
    "    bw_individu = bw_individu.reshape(jml_iterasi+1, 3)\n",
    "    # print(bw_individu)\n",
    "    return bw_individu, best_of_all, worst_of_all"
   ]
  },
  {
   "cell_type": "code",
   "execution_count": 35,
   "metadata": {},
   "outputs": [
    {
     "ename": "IndexError",
     "evalue": "index 0 is out of bounds for axis 0 with size 0",
     "output_type": "error",
     "traceback": [
      "\u001b[1;31m---------------------------------------------------------------------------\u001b[0m",
      "\u001b[1;31mIndexError\u001b[0m                                Traceback (most recent call last)",
      "\u001b[1;32m<ipython-input-35-dbe851d94e56>\u001b[0m in \u001b[0;36m<module>\u001b[1;34m\u001b[0m\n\u001b[0;32m      1\u001b[0m \u001b[0mpopulasi\u001b[0m \u001b[1;33m=\u001b[0m \u001b[1;36m10\u001b[0m\u001b[1;33m\u001b[0m\u001b[1;33m\u001b[0m\u001b[0m\n\u001b[0;32m      2\u001b[0m \u001b[0miterasi\u001b[0m \u001b[1;33m=\u001b[0m \u001b[1;36m100\u001b[0m \u001b[1;31m# Generasi\u001b[0m\u001b[1;33m\u001b[0m\u001b[1;33m\u001b[0m\u001b[0m\n\u001b[1;32m----> 3\u001b[1;33m \u001b[0mhasil\u001b[0m \u001b[1;33m=\u001b[0m \u001b[0meksekusi\u001b[0m\u001b[1;33m(\u001b[0m\u001b[0mpopulasi\u001b[0m\u001b[1;33m,\u001b[0m \u001b[0miterasi\u001b[0m\u001b[1;33m,\u001b[0m \u001b[1;36m400\u001b[0m\u001b[1;33m,\u001b[0m \u001b[1;36m70\u001b[0m\u001b[1;33m,\u001b[0m \u001b[1;36m100\u001b[0m\u001b[1;33m)\u001b[0m\u001b[1;33m\u001b[0m\u001b[1;33m\u001b[0m\u001b[0m\n\u001b[0m\u001b[0;32m      4\u001b[0m \u001b[0mbw_individu\u001b[0m \u001b[1;33m=\u001b[0m \u001b[0mhasil\u001b[0m\u001b[1;33m[\u001b[0m\u001b[1;36m0\u001b[0m\u001b[1;33m]\u001b[0m\u001b[1;33m\u001b[0m\u001b[1;33m\u001b[0m\u001b[0m\n\u001b[0;32m      5\u001b[0m \u001b[0mgeneration\u001b[0m \u001b[1;33m=\u001b[0m \u001b[0mbw_individu\u001b[0m\u001b[1;33m[\u001b[0m\u001b[1;33m:\u001b[0m\u001b[1;33m,\u001b[0m \u001b[1;33m[\u001b[0m\u001b[1;36m0\u001b[0m\u001b[1;33m]\u001b[0m\u001b[1;33m]\u001b[0m\u001b[1;33m\u001b[0m\u001b[1;33m\u001b[0m\u001b[0m\n",
      "\u001b[1;32m<ipython-input-34-906d8e362f20>\u001b[0m in \u001b[0;36meksekusi\u001b[1;34m(jml_populasi, jml_iterasi, maks_kalori, probabilitas_kawin, probabilitas_mutasi)\u001b[0m\n\u001b[0;32m     17\u001b[0m                       probabilitas_kawin, probabilitas_mutasi)\n\u001b[0;32m     18\u001b[0m     \u001b[1;32mfor\u001b[0m \u001b[0mit\u001b[0m \u001b[1;32min\u001b[0m \u001b[0mrange\u001b[0m\u001b[1;33m(\u001b[0m\u001b[0mjml_iterasi\u001b[0m\u001b[1;33m)\u001b[0m\u001b[1;33m:\u001b[0m\u001b[1;33m\u001b[0m\u001b[1;33m\u001b[0m\u001b[0m\n\u001b[1;32m---> 19\u001b[1;33m         \u001b[0mfit_status\u001b[0m \u001b[1;33m=\u001b[0m \u001b[0mcek_fitness\u001b[0m\u001b[1;33m(\u001b[0m\u001b[0mketurunan\u001b[0m\u001b[1;33m,\u001b[0m \u001b[0mmaks_kalori\u001b[0m\u001b[1;33m)\u001b[0m\u001b[1;33m\u001b[0m\u001b[1;33m\u001b[0m\u001b[0m\n\u001b[0m\u001b[0;32m     20\u001b[0m         \u001b[1;32mif\u001b[0m \u001b[0mfit_status\u001b[0m\u001b[1;33m[\u001b[0m\u001b[1;36m1\u001b[0m\u001b[1;33m]\u001b[0m \u001b[1;33m>\u001b[0m \u001b[0mbest_score_of_all\u001b[0m\u001b[1;33m:\u001b[0m\u001b[1;33m\u001b[0m\u001b[1;33m\u001b[0m\u001b[0m\n\u001b[0;32m     21\u001b[0m             \u001b[0mbest_score_of_all\u001b[0m \u001b[1;33m=\u001b[0m \u001b[0mfit_status\u001b[0m\u001b[1;33m[\u001b[0m\u001b[1;36m1\u001b[0m\u001b[1;33m]\u001b[0m\u001b[1;33m\u001b[0m\u001b[1;33m\u001b[0m\u001b[0m\n",
      "\u001b[1;32m<ipython-input-28-03a799476e86>\u001b[0m in \u001b[0;36mcek_fitness\u001b[1;34m(generasi, maks_kalori)\u001b[0m\n\u001b[0;32m     16\u001b[0m         \u001b[0mmenu_sebelum\u001b[0m \u001b[1;33m=\u001b[0m \u001b[1;32mNone\u001b[0m\u001b[1;33m\u001b[0m\u001b[1;33m\u001b[0m\u001b[0m\n\u001b[0;32m     17\u001b[0m         \u001b[1;32mfor\u001b[0m \u001b[0mkromosom\u001b[0m \u001b[1;32min\u001b[0m \u001b[0mindividu\u001b[0m\u001b[1;33m:\u001b[0m\u001b[1;33m\u001b[0m\u001b[1;33m\u001b[0m\u001b[0m\n\u001b[1;32m---> 18\u001b[1;33m             \u001b[1;32mif\u001b[0m \u001b[0mdibawah_kalori_maksimal\u001b[0m\u001b[1;33m(\u001b[0m\u001b[0mkromosom\u001b[0m\u001b[1;33m,\u001b[0m \u001b[0mmaks_kalori\u001b[0m\u001b[1;33m)\u001b[0m \u001b[1;33m==\u001b[0m \u001b[1;32mFalse\u001b[0m\u001b[1;33m:\u001b[0m\u001b[1;33m\u001b[0m\u001b[1;33m\u001b[0m\u001b[0m\n\u001b[0m\u001b[0;32m     19\u001b[0m                 \u001b[0mkalorifit\u001b[0m \u001b[1;33m=\u001b[0m \u001b[1;36m0\u001b[0m\u001b[1;33m\u001b[0m\u001b[1;33m\u001b[0m\u001b[0m\n\u001b[0;32m     20\u001b[0m             \u001b[1;32mif\u001b[0m \u001b[0mmenu_sebelum\u001b[0m \u001b[1;32mis\u001b[0m \u001b[1;32mnot\u001b[0m \u001b[1;32mNone\u001b[0m\u001b[1;33m:\u001b[0m\u001b[1;33m\u001b[0m\u001b[1;33m\u001b[0m\u001b[0m\n",
      "\u001b[1;32m<ipython-input-25-b3ba2f8b4d33>\u001b[0m in \u001b[0;36mdibawah_kalori_maksimal\u001b[1;34m(menu_sekali_makan, maks_kalori)\u001b[0m\n\u001b[0;32m     10\u001b[0m     \u001b[0mbuah\u001b[0m\u001b[1;33m,\u001b[0m \u001b[0mcols\u001b[0m \u001b[1;33m=\u001b[0m \u001b[0mnp\u001b[0m\u001b[1;33m.\u001b[0m\u001b[0mwhere\u001b[0m\u001b[1;33m(\u001b[0m\u001b[0mdata_makanan\u001b[0m\u001b[1;33m[\u001b[0m\u001b[1;36m0\u001b[0m\u001b[1;33m]\u001b[0m \u001b[1;33m==\u001b[0m \u001b[0mmenu_sekali_makan\u001b[0m\u001b[1;33m[\u001b[0m\u001b[1;36m0\u001b[0m\u001b[1;33m]\u001b[0m\u001b[1;33m)\u001b[0m\u001b[1;33m\u001b[0m\u001b[1;33m\u001b[0m\u001b[0m\n\u001b[0;32m     11\u001b[0m \u001b[1;31m#     print(buah)\u001b[0m\u001b[1;33m\u001b[0m\u001b[1;33m\u001b[0m\u001b[1;33m\u001b[0m\u001b[0m\n\u001b[1;32m---> 12\u001b[1;33m     \u001b[0mkalori_buah\u001b[0m \u001b[1;33m=\u001b[0m \u001b[0mint\u001b[0m\u001b[1;33m(\u001b[0m\u001b[0mdata_makanan\u001b[0m\u001b[1;33m[\u001b[0m\u001b[1;36m0\u001b[0m\u001b[1;33m]\u001b[0m\u001b[1;33m[\u001b[0m\u001b[0mbuah\u001b[0m\u001b[1;33m,\u001b[0m \u001b[1;36m2\u001b[0m\u001b[1;33m]\u001b[0m\u001b[1;33m[\u001b[0m\u001b[1;36m0\u001b[0m\u001b[1;33m]\u001b[0m\u001b[1;33m)\u001b[0m\u001b[1;33m\u001b[0m\u001b[1;33m\u001b[0m\u001b[0m\n\u001b[0m\u001b[0;32m     13\u001b[0m \u001b[1;33m\u001b[0m\u001b[0m\n\u001b[0;32m     14\u001b[0m     \u001b[1;31m# cari kalori karbo\u001b[0m\u001b[1;33m\u001b[0m\u001b[1;33m\u001b[0m\u001b[1;33m\u001b[0m\u001b[0m\n",
      "\u001b[1;31mIndexError\u001b[0m: index 0 is out of bounds for axis 0 with size 0"
     ]
    }
   ],
   "source": [
    "populasi = 10\n",
    "iterasi = 100 # Generasi\n",
    "hasil = eksekusi(populasi, iterasi, 400, 70, 100)\n",
    "bw_individu = hasil[0]\n",
    "generation = bw_individu[:, [0]]\n",
    "best = bw_individu[:, [1]]\n",
    "worst = bw_individu[:, [2]]\n",
    "generation = generation.reshape(-1)\n",
    "best = best.reshape(-1)\n",
    "worst = worst.reshape(-1)"
   ]
  },
  {
   "cell_type": "code",
   "execution_count": null,
   "metadata": {},
   "outputs": [],
   "source": [
    "generation"
   ]
  },
  {
   "cell_type": "code",
   "execution_count": null,
   "metadata": {},
   "outputs": [],
   "source": [
    "best"
   ]
  },
  {
   "cell_type": "code",
   "execution_count": null,
   "metadata": {},
   "outputs": [],
   "source": []
  },
  {
   "cell_type": "code",
   "execution_count": null,
   "metadata": {},
   "outputs": [],
   "source": [
    "worst"
   ]
  },
  {
   "cell_type": "code",
   "execution_count": null,
   "metadata": {},
   "outputs": [],
   "source": []
  }
 ],
 "metadata": {
  "interpreter": {
   "hash": "b55a925ffe9281f9d332bd7451b054fa64ba59642cf58ba58aa9346a2c73d2c9"
  },
  "kernelspec": {
   "display_name": "Python 3",
   "language": "python",
   "name": "python3"
  },
  "language_info": {
   "codemirror_mode": {
    "name": "ipython",
    "version": 3
   },
   "file_extension": ".py",
   "mimetype": "text/x-python",
   "name": "python",
   "nbconvert_exporter": "python",
   "pygments_lexer": "ipython3",
   "version": "3.8.5"
  }
 },
 "nbformat": 4,
 "nbformat_minor": 2
}
